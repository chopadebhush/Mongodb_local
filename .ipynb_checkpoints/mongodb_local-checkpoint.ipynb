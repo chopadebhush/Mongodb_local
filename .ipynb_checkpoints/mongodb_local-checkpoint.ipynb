{
 "cells": [
  {
   "cell_type": "code",
   "execution_count": 1,
   "id": "5d5759dc-131b-4b54-a858-3a2df95a3173",
   "metadata": {},
   "outputs": [
    {
     "name": "stdout",
     "output_type": "stream",
     "text": [
      "Requirement already satisfied: pymongo in c:\\users\\bhushan\\anaconda3.11\\lib\\site-packages (4.8.0)\n",
      "Requirement already satisfied: dnspython<3.0.0,>=1.16.0 in c:\\users\\bhushan\\anaconda3.11\\lib\\site-packages (from pymongo) (2.6.1)\n"
     ]
    }
   ],
   "source": [
    "!pip install pymongo"
   ]
  },
  {
   "cell_type": "code",
   "execution_count": 2,
   "id": "02f40abf-960b-4261-968e-ade9ffdb1109",
   "metadata": {},
   "outputs": [
    {
     "name": "stdout",
     "output_type": "stream",
     "text": [
      "MongoClient(host=['127.0.0.1:27017'], document_class=dict, tz_aware=False, connect=True)\n"
     ]
    }
   ],
   "source": [
    "from pymongo import MongoClient\n",
    "# connect mongo db server\n",
    "uri =\"mongodb://127.0.0.1:27017/\"\n",
    "\n",
    "# connect to mongo client\n",
    "client =MongoClient(uri)\n",
    "print(client)"
   ]
  },
  {
   "cell_type": "code",
   "execution_count": 3,
   "id": "9584e216-34ca-4c41-bffb-ea8a1b016376",
   "metadata": {},
   "outputs": [
    {
     "name": "stdout",
     "output_type": "stream",
     "text": [
      "['admin', 'config', 'local', 'newdatabase']\n"
     ]
    }
   ],
   "source": [
    "# show databases\n",
    "print(client.list_database_names())"
   ]
  },
  {
   "cell_type": "code",
   "execution_count": 4,
   "id": "4b88c599-8513-4da6-8e0f-e9ea9d22e8cd",
   "metadata": {},
   "outputs": [],
   "source": [
    "# Create a new database\n",
    "db = client[\"newdatabase\"]\n",
    "\n",
    "#create new collection\n",
    "collection= db[\"new_collection\"]"
   ]
  },
  {
   "cell_type": "code",
   "execution_count": 5,
   "id": "2c9a59dc-f14b-4c5d-9874-e3a8bac0fb00",
   "metadata": {},
   "outputs": [
    {
     "name": "stdout",
     "output_type": "stream",
     "text": [
      "Inserted document id {ObjectId('669cc6405017e8cb38bc8efc')}\n"
     ]
    }
   ],
   "source": [
    "# Sample document to insert\n",
    "document = {\n",
    "    \"name\": \"Alice\",\n",
    "    \"email\": \"alice@example.com\",\n",
    "    \"age\": 30,\n",
    "    \"address\": {\n",
    "        \"street\": \"456 Maple St\",\n",
    "        \"city\": \"Somewhere\",\n",
    "        \"state\": \"CA\",\n",
    "        \"zip\": \"67890\"\n",
    "    },\n",
    "    \"hobbies\": [\"painting\", \"cycling\"]\n",
    "}\n",
    "\n",
    "inserted_value = collection.insert_one(document)\n",
    "print(f\"Inserted document id\",{inserted_value.inserted_id})"
   ]
  },
  {
   "cell_type": "code",
   "execution_count": 6,
   "id": "c2dc7b06-ba91-4d93-8b62-865733055c6f",
   "metadata": {},
   "outputs": [
    {
     "name": "stdout",
     "output_type": "stream",
     "text": [
      "{'_id': ObjectId('669cc6405017e8cb38bc8efc'), 'name': 'Alice', 'email': 'alice@example.com', 'age': 30, 'address': {'street': '456 Maple St', 'city': 'Somewhere', 'state': 'CA', 'zip': '67890'}, 'hobbies': ['painting', 'cycling']}\n"
     ]
    }
   ],
   "source": [
    "# find all document in collection\n",
    "all_doc =collection.find()\n",
    "for i in all_doc :\n",
    "    print(i)"
   ]
  },
  {
   "cell_type": "code",
   "execution_count": 7,
   "id": "11083d3d-b025-4e44-9f45-bd3e7241584a",
   "metadata": {},
   "outputs": [
    {
     "name": "stdout",
     "output_type": "stream",
     "text": [
      "{'_id': ObjectId('669cc6405017e8cb38bc8efc'), 'name': 'Alice', 'email': 'alice@example.com', 'age': 30, 'address': {'street': '456 Maple St', 'city': 'Somewhere', 'state': 'CA', 'zip': '67890'}, 'hobbies': ['painting', 'cycling']}\n"
     ]
    }
   ],
   "source": [
    "# Sort document using in descending\n",
    "sorted_doc = collection.find().sort(\"age\",-1)\n",
    "for i in sorted_doc :\n",
    "    print(i)"
   ]
  },
  {
   "cell_type": "code",
   "execution_count": 8,
   "id": "d5ef8964-a247-49d5-95e0-22ac8fdc29d3",
   "metadata": {},
   "outputs": [
    {
     "name": "stdout",
     "output_type": "stream",
     "text": [
      "{'_id': ObjectId('669cc6405017e8cb38bc8efc'), 'name': 'Alice', 'email': 'alice@example.com', 'age': 30, 'address': {'street': '456 Maple St', 'city': 'Somewhere', 'state': 'CA', 'zip': '67890'}, 'hobbies': ['painting', 'cycling']}\n"
     ]
    }
   ],
   "source": [
    "# limit the number of document return by query\n",
    "\n",
    "limit_doc =collection.find().limit(1)\n",
    "for i in limit_doc :\n",
    "    print(i)"
   ]
  },
  {
   "cell_type": "code",
   "execution_count": 9,
   "id": "051bfb3c-c832-449d-bc2b-387546f1718e",
   "metadata": {},
   "outputs": [
    {
     "name": "stdout",
     "output_type": "stream",
     "text": [
      "Matched 1 document(s) and modified 1 document(s).\n"
     ]
    }
   ],
   "source": [
    "### Update the document\n",
    "\n",
    "update_doc = collection.update_one({\"name\":\"Alice\"},{\"$set\":{\"age\":35}})\n",
    "print(f'Matched {update_doc.matched_count} document(s) and modified {update_doc.modified_count} document(s).')"
   ]
  },
  {
   "cell_type": "code",
   "execution_count": 10,
   "id": "a055509f-c3d0-412b-b3ee-d8bfd1ba7afb",
   "metadata": {},
   "outputs": [
    {
     "name": "stdout",
     "output_type": "stream",
     "text": [
      "Matched 1 document(s) and modified 1 document(s).\n"
     ]
    }
   ],
   "source": [
    "# Update multiple documents (e.g., set \"verified\" field to True for all users older than 25)\n",
    "update_many_result = collection.update_many({\"age\": {\"$gt\": 25}}, {\"$set\": {\"verified\": True}})\n",
    "print(f'Matched {update_many_result.matched_count} document(s) and modified {update_many_result.modified_count} document(s).')\n"
   ]
  },
  {
   "cell_type": "code",
   "execution_count": 11,
   "id": "16710a02-e30a-4fce-bbbe-42e7c91661c0",
   "metadata": {},
   "outputs": [
    {
     "name": "stdout",
     "output_type": "stream",
     "text": [
      "{'_id': ObjectId('669cc6405017e8cb38bc8efc'), 'name': 'Alice', 'email': 'alice@example.com', 'age': 35, 'address': {'street': '456 Maple St', 'city': 'Somewhere', 'state': 'CA', 'zip': '67890'}, 'hobbies': ['painting', 'cycling'], 'verified': True}\n"
     ]
    }
   ],
   "source": [
    "# find all document in collection\n",
    "all_doc =collection.find()\n",
    "for i in all_doc :\n",
    "    print(i)"
   ]
  },
  {
   "cell_type": "markdown",
   "id": "bd43154f-f069-4c31-a5c7-a8fc1c67dde6",
   "metadata": {},
   "source": [
    "### Delete one document \n",
    "delete_result =collection.delete_one({\"name\":\"Alice\"})\n",
    "print(f\"delete {delete_result.deleted_count} documnet (S)\")"
   ]
  },
  {
   "cell_type": "code",
   "execution_count": 13,
   "id": "4afc409b-8659-4c05-9039-e124a6873b9e",
   "metadata": {},
   "outputs": [
    {
     "name": "stdout",
     "output_type": "stream",
     "text": [
      "{'_id': ObjectId('669cc6405017e8cb38bc8efc'), 'name': 'Alice', 'email': 'alice@example.com', 'age': 35, 'address': {'street': '456 Maple St', 'city': 'Somewhere', 'state': 'CA', 'zip': '67890'}, 'hobbies': ['painting', 'cycling'], 'verified': True}\n"
     ]
    }
   ],
   "source": [
    "# find all document in collection\n",
    "all_doc =collection.find()\n",
    "for i in all_doc :\n",
    "    print(i)"
   ]
  },
  {
   "cell_type": "code",
   "execution_count": 14,
   "id": "9bc76f94-9126-4ac1-9ddc-3a4106704372",
   "metadata": {},
   "outputs": [
    {
     "name": "stdout",
     "output_type": "stream",
     "text": [
      "Deleted 1 document(s).\n"
     ]
    }
   ],
   "source": [
    "# Delete multiple documents (e.g., remove all users older than 30)\n",
    "delete_many_result = collection.delete_many({\"age\": {\"$gt\": 30}})\n",
    "print(f'Deleted {delete_many_result.deleted_count} document(s).')"
   ]
  },
  {
   "cell_type": "code",
   "execution_count": null,
   "id": "b96e48c8-393b-4bc3-befa-758148ac7f1a",
   "metadata": {},
   "outputs": [],
   "source": []
  },
  {
   "cell_type": "code",
   "execution_count": null,
   "id": "db8f5e59-7fe5-4188-a1bc-ddd77ec7ec62",
   "metadata": {},
   "outputs": [],
   "source": []
  }
 ],
 "metadata": {
  "kernelspec": {
   "display_name": "Python 3 (ipykernel)",
   "language": "python",
   "name": "python3"
  },
  "language_info": {
   "codemirror_mode": {
    "name": "ipython",
    "version": 3
   },
   "file_extension": ".py",
   "mimetype": "text/x-python",
   "name": "python",
   "nbconvert_exporter": "python",
   "pygments_lexer": "ipython3",
   "version": "3.11.7"
  }
 },
 "nbformat": 4,
 "nbformat_minor": 5
}
